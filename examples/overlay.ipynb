{
 "cells": [
  {
   "cell_type": "markdown",
   "metadata": {
    "slideshow": {
     "slide_type": "slide"
    }
   },
   "source": [
    "# Testing the overlay feature"
   ]
  },
  {
   "cell_type": "markdown",
   "metadata": {
    "slideshow": {
     "slide_type": "-"
    }
   },
   "source": [
    "The overlay protocol goes like this"
   ]
  },
  {
   "cell_type": "markdown",
   "metadata": {
    "slideshow": {
     "slide_type": "slide"
    }
   },
   "source": [
    "## Using `overlay` "
   ]
  },
  {
   "cell_type": "markdown",
   "metadata": {},
   "source": [
    "If we find an `overlay` entry in the `livereveal` section of the notebook metadata, this string will be inserted in a `div#rise-overlay` element that shows on every slide.\n",
    "\n",
    "So this is a very low-level entry point, you are entirely responsible for providing a complete html fragment, and for styling it - how you can inject styling here is another story entirely."
   ]
  },
  {
   "cell_type": "markdown",
   "metadata": {
    "slideshow": {
     "slide_type": "slide"
    }
   },
   "source": [
    "## Using `header`, `footer` and `backimage`"
   ]
  },
  {
   "cell_type": "markdown",
   "metadata": {},
   "source": [
    "If OTOH `overlay` cannot be found, then RISE looks for \n",
    "* `header`\n",
    "* `footer`\n",
    "* and `backimage` (again in the `livereveal` section of the notebook metadata)"
   ]
  },
  {
   "cell_type": "markdown",
   "metadata": {
    "slideshow": {
     "slide_type": "slide"
    }
   },
   "source": [
    "Then it creates an html element that looks like this\n",
    "\n",
    "```\n",
    "<div id='rise-overlay'> \n",
    "  <div id='rise-header'> ...</div>\n",
    "  <div id='rise-backimage'><img src=... /></div>\n",
    "  <div id='rise-footer'> ...</div>\n",
    "</div>\n",
    "```"
   ]
  },
  {
   "cell_type": "markdown",
   "metadata": {
    "slideshow": {
     "slide_type": "-"
    }
   },
   "source": [
    "with minimum styling so that the header is at the top, the footer at the bottom, and the images\n",
    "\n",
    "In this case you can define\n",
    "\n",
    "* `header` and `footer` as a regular string or a more elaborate html element\n",
    "* `backimage` as a url path\n",
    "and you are still responsible for styling.\n",
    "  "
   ]
  },
  {
   "cell_type": "markdown",
   "metadata": {
    "slideshow": {
     "slide_type": "slide"
    }
   },
   "source": [
    "# Examples"
   ]
  },
  {
   "cell_type": "markdown",
   "metadata": {},
   "source": [
    "This notebook demonstrates defining `overlay`, (this other one)[header-footer.ipynb] shows how to use `header` and `footer` and `backimage`."
   ]
  }
 ],
 "metadata": {
  "celltoolbar": "Slideshow",
  "kernelspec": {
   "display_name": "Python 3",
   "language": "python",
   "name": "python3"
  },
  "language_info": {
   "codemirror_mode": {
    "name": "ipython",
    "version": 3
   },
   "file_extension": ".py",
   "mimetype": "text/x-python",
   "name": "python",
   "nbconvert_exporter": "python",
   "pygments_lexer": "ipython3",
   "version": "3.6.2"
  },
  "livereveal": {
   "overlay": "<div class='myheader'><h2>my company</h2></div><div class='myfooter'><h2>the date</h2></div>"
  }
 },
 "nbformat": 4,
 "nbformat_minor": 2
}
